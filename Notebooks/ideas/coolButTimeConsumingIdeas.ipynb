{
 "cells": [
  {
   "cell_type": "markdown",
   "metadata": {},
   "source": [
    "# Ideas for enhancing our preliminary model \n"
   ]
  },
  {
   "cell_type": "markdown",
   "metadata": {},
   "source": [
    "ther are some cool ideas that we would like to explore after we did our preliminary model \n"
   ]
  },
  {
   "cell_type": "markdown",
   "metadata": {},
   "source": [
    "## outliers might be useful"
   ]
  },
  {
   "cell_type": "markdown",
   "metadata": {},
   "source": [
    "some outliers like age , foundation , number of people living in a building , might be deterministic into finding out what will happen to a building. "
   ]
  },
  {
   "cell_type": "markdown",
   "metadata": {},
   "source": [
    "with scrapping these outliers , we might just be learning a generalization of the problem, but we will not predict the building quality when it matters the most. \n"
   ]
  },
  {
   "cell_type": "markdown",
   "metadata": {},
   "source": []
  },
  {
   "cell_type": "markdown",
   "metadata": {},
   "source": [
    "## duplicates \n",
    "\n",
    "there are duplictes found , eventhough the buliding id is not the same . so we should be aware of that\n"
   ]
  },
  {
   "cell_type": "markdown",
   "metadata": {},
   "source": [
    "## has _ flag s \n",
    "\n",
    "the has something flags , can be somehow encoded into non binary categorical column to avoid having a lot of columns . \n"
   ]
  },
  {
   "cell_type": "markdown",
   "metadata": {},
   "source": [
    "## upsampling and downsampling \n",
    "\n",
    "we need to check the targets and maybe upsample some of the data and downsample some to make a unified distribution of labels for a good predictinos \n"
   ]
  },
  {
   "cell_type": "markdown",
   "metadata": {},
   "source": []
  }
 ],
 "metadata": {
  "kernelspec": {
   "display_name": "Python 3",
   "language": "python",
   "name": "python3"
  },
  "language_info": {
   "name": "python",
   "version": "3.12.8"
  }
 },
 "nbformat": 4,
 "nbformat_minor": 2
}
