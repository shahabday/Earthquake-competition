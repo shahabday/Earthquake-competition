{
 "cells": [
  {
   "cell_type": "code",
   "execution_count": 1,
   "metadata": {},
   "outputs": [],
   "source": [
    "import numpy as np\n",
    "import pandas as pd\n",
    "import matplotlib.pyplot as plt\n",
    "import seaborn as sns\n",
    "import missingno\n",
    "import os\n",
    "from sklearn.preprocessing import LabelEncoder\n",
    "from scipy.stats import zscore"
   ]
  },
  {
   "cell_type": "code",
   "execution_count": 2,
   "metadata": {},
   "outputs": [],
   "source": [
    "# load data\n",
    "data_path = \"../../data/raw/\"\n",
    "train = pd.read_csv(os.path.join(data_path + \"train_values.csv\"))\n",
    "labels = pd.read_csv(os.path.join(data_path + \"train_labels.csv\"))"
   ]
  },
  {
   "cell_type": "code",
   "execution_count": null,
   "metadata": {},
   "outputs": [],
   "source": [
    "# inspect hist of the data\n",
    "\n",
    "def get_hist(df, hist_x_row=4):\n",
    "    \"\"\"diagnostic tool to inspect the distribution of the data.\n",
    "    It returns a histogram of each column in the dataframe.\n",
    "    \"\"\"\n",
    "    n_cols = np.ceil(len(df.columns)/hist_x_row).astype(int)\n",
    "    plt.figure(figsize=(20, 40))\n",
    "    for i, col in enumerate(df.columns):\n",
    "        plt.subplot(n_cols, hist_x_row, i+1)\n",
    "        df[col].hist()\n",
    "        plt.title(col + ' - ' + str(df[col].dtype)) \n",
    "\n",
    "    plt.subplots_adjust(hspace=0.5, wspace=0.3)\n",
    "\n",
    "\n",
    "get_hist(train)"
   ]
  },
  {
   "cell_type": "code",
   "execution_count": null,
   "metadata": {},
   "outputs": [],
   "source": [
    "# Convert binary vars into objects\n",
    "\n",
    "for col in train.columns:\n",
    "    if len(train[col].unique()) == 2:\n",
    "        print(col, train[col].unique())\n",
    "        train[col] = train[col].astype('object')"
   ]
  },
  {
   "cell_type": "code",
   "execution_count": null,
   "metadata": {},
   "outputs": [],
   "source": []
  }
 ],
 "metadata": {
  "kernelspec": {
   "display_name": "DA_env",
   "language": "python",
   "name": "python3"
  },
  "language_info": {
   "codemirror_mode": {
    "name": "ipython",
    "version": 3
   },
   "file_extension": ".py",
   "mimetype": "text/x-python",
   "name": "python",
   "nbconvert_exporter": "python",
   "pygments_lexer": "ipython3",
   "version": "3.13.1"
  }
 },
 "nbformat": 4,
 "nbformat_minor": 2
}
